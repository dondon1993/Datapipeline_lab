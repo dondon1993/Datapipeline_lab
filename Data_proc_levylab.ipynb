{
 "cells": [
  {
   "cell_type": "markdown",
   "metadata": {},
   "source": [
    "Need to install nptdms. Command: conda install -c conda-forge nptdms"
   ]
  },
  {
   "cell_type": "code",
   "execution_count": 2,
   "metadata": {},
   "outputs": [],
   "source": [
    "import pandas as pd\n",
    "from nptdms import TdmsFile"
   ]
  },
  {
   "cell_type": "code",
   "execution_count": 3,
   "metadata": {},
   "outputs": [],
   "source": [
    "import matplotlib.pyplot as plt"
   ]
  },
  {
   "cell_type": "markdown",
   "metadata": {},
   "source": [
    "Data for temperature and humidity. This comes from Pai's DSC google drive. According to Pai, he only backed up temperature and humidity data until 6 months ago. So we still need to figure out how to extract data from DSC. <br>Link to Pai's DSC folder: https://drive.google.com/drive/folders/0BxuhdUf7uaUYcTVhVzhJeDZEMG8?usp=sharing\n",
    "<br> Below I use 2017-08-28.txt in /MFP3D/MFP3D_Temperature to test how to read .txt file"
   ]
  },
  {
   "cell_type": "code",
   "execution_count": 3,
   "metadata": {},
   "outputs": [],
   "source": [
    "folder = './MFP3D_Hum'"
   ]
  },
  {
   "cell_type": "code",
   "execution_count": 7,
   "metadata": {},
   "outputs": [],
   "source": [
    "path = folder + '/2017-08-28.txt'"
   ]
  },
  {
   "cell_type": "code",
   "execution_count": 10,
   "metadata": {},
   "outputs": [],
   "source": [
    "data = pd.read_csv(path, sep=\"\\t\", header = None)"
   ]
  },
  {
   "cell_type": "code",
   "execution_count": 25,
   "metadata": {},
   "outputs": [],
   "source": [
    "data[['date','time']] = data[0].str.split(expand=True)\n",
    "data.drop(0, axis=1, inplace=True)"
   ]
  },
  {
   "cell_type": "code",
   "execution_count": 27,
   "metadata": {},
   "outputs": [],
   "source": [
    "data.rename(columns = {1: 'time_labview',\n",
    "             2: 'Temp'}, inplace = True)"
   ]
  },
  {
   "cell_type": "markdown",
   "metadata": {},
   "source": [
    "reformatting date and time columns. More processing steps needed"
   ]
  },
  {
   "cell_type": "code",
   "execution_count": 28,
   "metadata": {},
   "outputs": [
    {
     "data": {
      "text/html": [
       "<div>\n",
       "<style scoped>\n",
       "    .dataframe tbody tr th:only-of-type {\n",
       "        vertical-align: middle;\n",
       "    }\n",
       "\n",
       "    .dataframe tbody tr th {\n",
       "        vertical-align: top;\n",
       "    }\n",
       "\n",
       "    .dataframe thead th {\n",
       "        text-align: right;\n",
       "    }\n",
       "</style>\n",
       "<table border=\"1\" class=\"dataframe\">\n",
       "  <thead>\n",
       "    <tr style=\"text-align: right;\">\n",
       "      <th></th>\n",
       "      <th>time_labview</th>\n",
       "      <th>Temp</th>\n",
       "      <th>date</th>\n",
       "      <th>time</th>\n",
       "    </tr>\n",
       "  </thead>\n",
       "  <tbody>\n",
       "    <tr>\n",
       "      <th>0</th>\n",
       "      <td>3.586785e+09</td>\n",
       "      <td>33.17</td>\n",
       "      <td>2017-08-28</td>\n",
       "      <td>13:16:09.2870</td>\n",
       "    </tr>\n",
       "    <tr>\n",
       "      <th>1</th>\n",
       "      <td>3.588536e+09</td>\n",
       "      <td>36.95</td>\n",
       "      <td>2017-09-17</td>\n",
       "      <td>19:28:53.8380</td>\n",
       "    </tr>\n",
       "    <tr>\n",
       "      <th>2</th>\n",
       "      <td>3.588536e+09</td>\n",
       "      <td>36.95</td>\n",
       "      <td>2017-09-17</td>\n",
       "      <td>19:28:54.8380</td>\n",
       "    </tr>\n",
       "    <tr>\n",
       "      <th>3</th>\n",
       "      <td>3.588536e+09</td>\n",
       "      <td>36.95</td>\n",
       "      <td>2017-09-17</td>\n",
       "      <td>19:28:55.8470</td>\n",
       "    </tr>\n",
       "    <tr>\n",
       "      <th>4</th>\n",
       "      <td>3.588536e+09</td>\n",
       "      <td>36.95</td>\n",
       "      <td>2017-09-17</td>\n",
       "      <td>19:28:56.8370</td>\n",
       "    </tr>\n",
       "    <tr>\n",
       "      <th>5</th>\n",
       "      <td>3.588536e+09</td>\n",
       "      <td>36.95</td>\n",
       "      <td>2017-09-17</td>\n",
       "      <td>19:28:57.8770</td>\n",
       "    </tr>\n",
       "    <tr>\n",
       "      <th>6</th>\n",
       "      <td>3.588536e+09</td>\n",
       "      <td>36.95</td>\n",
       "      <td>2017-09-17</td>\n",
       "      <td>19:28:58.8570</td>\n",
       "    </tr>\n",
       "    <tr>\n",
       "      <th>7</th>\n",
       "      <td>3.588536e+09</td>\n",
       "      <td>36.95</td>\n",
       "      <td>2017-09-17</td>\n",
       "      <td>19:28:59.8170</td>\n",
       "    </tr>\n",
       "    <tr>\n",
       "      <th>8</th>\n",
       "      <td>3.588536e+09</td>\n",
       "      <td>36.95</td>\n",
       "      <td>2017-09-17</td>\n",
       "      <td>19:29:00.8370</td>\n",
       "    </tr>\n",
       "    <tr>\n",
       "      <th>9</th>\n",
       "      <td>3.588536e+09</td>\n",
       "      <td>36.95</td>\n",
       "      <td>2017-09-17</td>\n",
       "      <td>19:29:01.8870</td>\n",
       "    </tr>\n",
       "    <tr>\n",
       "      <th>10</th>\n",
       "      <td>3.588536e+09</td>\n",
       "      <td>36.95</td>\n",
       "      <td>2017-09-17</td>\n",
       "      <td>19:29:02.8370</td>\n",
       "    </tr>\n",
       "    <tr>\n",
       "      <th>11</th>\n",
       "      <td>3.588536e+09</td>\n",
       "      <td>36.95</td>\n",
       "      <td>2017-09-17</td>\n",
       "      <td>19:29:03.8170</td>\n",
       "    </tr>\n",
       "    <tr>\n",
       "      <th>12</th>\n",
       "      <td>3.588536e+09</td>\n",
       "      <td>36.95</td>\n",
       "      <td>2017-09-17</td>\n",
       "      <td>19:29:04.8470</td>\n",
       "    </tr>\n",
       "    <tr>\n",
       "      <th>13</th>\n",
       "      <td>3.588536e+09</td>\n",
       "      <td>36.95</td>\n",
       "      <td>2017-09-17</td>\n",
       "      <td>19:29:05.8470</td>\n",
       "    </tr>\n",
       "    <tr>\n",
       "      <th>14</th>\n",
       "      <td>3.588536e+09</td>\n",
       "      <td>36.95</td>\n",
       "      <td>2017-09-17</td>\n",
       "      <td>19:29:06.8370</td>\n",
       "    </tr>\n",
       "    <tr>\n",
       "      <th>15</th>\n",
       "      <td>3.588536e+09</td>\n",
       "      <td>36.95</td>\n",
       "      <td>2017-09-17</td>\n",
       "      <td>19:29:07.8270</td>\n",
       "    </tr>\n",
       "    <tr>\n",
       "      <th>16</th>\n",
       "      <td>3.588536e+09</td>\n",
       "      <td>36.95</td>\n",
       "      <td>2017-09-17</td>\n",
       "      <td>19:29:08.8270</td>\n",
       "    </tr>\n",
       "    <tr>\n",
       "      <th>17</th>\n",
       "      <td>3.588536e+09</td>\n",
       "      <td>36.95</td>\n",
       "      <td>2017-09-17</td>\n",
       "      <td>19:29:09.8670</td>\n",
       "    </tr>\n",
       "    <tr>\n",
       "      <th>18</th>\n",
       "      <td>3.588536e+09</td>\n",
       "      <td>36.95</td>\n",
       "      <td>2017-09-17</td>\n",
       "      <td>19:29:10.8570</td>\n",
       "    </tr>\n",
       "    <tr>\n",
       "      <th>19</th>\n",
       "      <td>3.588536e+09</td>\n",
       "      <td>36.95</td>\n",
       "      <td>2017-09-17</td>\n",
       "      <td>19:29:11.8170</td>\n",
       "    </tr>\n",
       "    <tr>\n",
       "      <th>20</th>\n",
       "      <td>3.588536e+09</td>\n",
       "      <td>36.95</td>\n",
       "      <td>2017-09-17</td>\n",
       "      <td>19:29:12.8460</td>\n",
       "    </tr>\n",
       "    <tr>\n",
       "      <th>21</th>\n",
       "      <td>3.588536e+09</td>\n",
       "      <td>36.95</td>\n",
       "      <td>2017-09-17</td>\n",
       "      <td>19:29:13.8460</td>\n",
       "    </tr>\n",
       "    <tr>\n",
       "      <th>22</th>\n",
       "      <td>3.588536e+09</td>\n",
       "      <td>36.95</td>\n",
       "      <td>2017-09-17</td>\n",
       "      <td>19:29:14.8660</td>\n",
       "    </tr>\n",
       "    <tr>\n",
       "      <th>23</th>\n",
       "      <td>3.588536e+09</td>\n",
       "      <td>36.95</td>\n",
       "      <td>2017-09-17</td>\n",
       "      <td>19:29:15.8160</td>\n",
       "    </tr>\n",
       "    <tr>\n",
       "      <th>24</th>\n",
       "      <td>3.588536e+09</td>\n",
       "      <td>36.95</td>\n",
       "      <td>2017-09-17</td>\n",
       "      <td>19:29:16.8360</td>\n",
       "    </tr>\n",
       "    <tr>\n",
       "      <th>25</th>\n",
       "      <td>3.588536e+09</td>\n",
       "      <td>36.95</td>\n",
       "      <td>2017-09-17</td>\n",
       "      <td>19:29:17.8260</td>\n",
       "    </tr>\n",
       "    <tr>\n",
       "      <th>26</th>\n",
       "      <td>3.588536e+09</td>\n",
       "      <td>36.95</td>\n",
       "      <td>2017-09-17</td>\n",
       "      <td>19:29:18.8360</td>\n",
       "    </tr>\n",
       "    <tr>\n",
       "      <th>27</th>\n",
       "      <td>3.588536e+09</td>\n",
       "      <td>36.95</td>\n",
       "      <td>2017-09-17</td>\n",
       "      <td>19:29:19.8760</td>\n",
       "    </tr>\n",
       "    <tr>\n",
       "      <th>28</th>\n",
       "      <td>3.588536e+09</td>\n",
       "      <td>36.95</td>\n",
       "      <td>2017-09-17</td>\n",
       "      <td>19:29:20.8160</td>\n",
       "    </tr>\n",
       "    <tr>\n",
       "      <th>29</th>\n",
       "      <td>3.588536e+09</td>\n",
       "      <td>36.92</td>\n",
       "      <td>2017-09-17</td>\n",
       "      <td>19:29:21.8460</td>\n",
       "    </tr>\n",
       "    <tr>\n",
       "      <th>...</th>\n",
       "      <td>...</td>\n",
       "      <td>...</td>\n",
       "      <td>...</td>\n",
       "      <td>...</td>\n",
       "    </tr>\n",
       "    <tr>\n",
       "      <th>383035</th>\n",
       "      <td>3.590471e+09</td>\n",
       "      <td>26.28</td>\n",
       "      <td>2017-10-10</td>\n",
       "      <td>04:57:29.7148</td>\n",
       "    </tr>\n",
       "    <tr>\n",
       "      <th>383036</th>\n",
       "      <td>3.590471e+09</td>\n",
       "      <td>26.28</td>\n",
       "      <td>2017-10-10</td>\n",
       "      <td>04:57:34.7138</td>\n",
       "    </tr>\n",
       "    <tr>\n",
       "      <th>383037</th>\n",
       "      <td>3.590471e+09</td>\n",
       "      <td>26.28</td>\n",
       "      <td>2017-10-10</td>\n",
       "      <td>04:57:39.7038</td>\n",
       "    </tr>\n",
       "    <tr>\n",
       "      <th>383038</th>\n",
       "      <td>3.590471e+09</td>\n",
       "      <td>26.28</td>\n",
       "      <td>2017-10-10</td>\n",
       "      <td>04:57:44.6948</td>\n",
       "    </tr>\n",
       "    <tr>\n",
       "      <th>383039</th>\n",
       "      <td>3.590471e+09</td>\n",
       "      <td>26.28</td>\n",
       "      <td>2017-10-10</td>\n",
       "      <td>04:57:49.7038</td>\n",
       "    </tr>\n",
       "    <tr>\n",
       "      <th>383040</th>\n",
       "      <td>3.590471e+09</td>\n",
       "      <td>26.28</td>\n",
       "      <td>2017-10-10</td>\n",
       "      <td>04:57:54.7138</td>\n",
       "    </tr>\n",
       "    <tr>\n",
       "      <th>383041</th>\n",
       "      <td>3.590471e+09</td>\n",
       "      <td>26.28</td>\n",
       "      <td>2017-10-10</td>\n",
       "      <td>04:57:59.7248</td>\n",
       "    </tr>\n",
       "    <tr>\n",
       "      <th>383042</th>\n",
       "      <td>3.590471e+09</td>\n",
       "      <td>26.28</td>\n",
       "      <td>2017-10-10</td>\n",
       "      <td>04:58:04.6948</td>\n",
       "    </tr>\n",
       "    <tr>\n",
       "      <th>383043</th>\n",
       "      <td>3.590471e+09</td>\n",
       "      <td>26.28</td>\n",
       "      <td>2017-10-10</td>\n",
       "      <td>04:58:09.7148</td>\n",
       "    </tr>\n",
       "    <tr>\n",
       "      <th>383044</th>\n",
       "      <td>3.590471e+09</td>\n",
       "      <td>26.28</td>\n",
       "      <td>2017-10-10</td>\n",
       "      <td>04:58:14.7148</td>\n",
       "    </tr>\n",
       "    <tr>\n",
       "      <th>383045</th>\n",
       "      <td>3.590471e+09</td>\n",
       "      <td>26.28</td>\n",
       "      <td>2017-10-10</td>\n",
       "      <td>04:58:19.7148</td>\n",
       "    </tr>\n",
       "    <tr>\n",
       "      <th>383046</th>\n",
       "      <td>3.590471e+09</td>\n",
       "      <td>26.28</td>\n",
       "      <td>2017-10-10</td>\n",
       "      <td>04:58:24.6948</td>\n",
       "    </tr>\n",
       "    <tr>\n",
       "      <th>383047</th>\n",
       "      <td>3.590471e+09</td>\n",
       "      <td>26.28</td>\n",
       "      <td>2017-10-10</td>\n",
       "      <td>04:58:29.7148</td>\n",
       "    </tr>\n",
       "    <tr>\n",
       "      <th>383048</th>\n",
       "      <td>3.590471e+09</td>\n",
       "      <td>26.28</td>\n",
       "      <td>2017-10-10</td>\n",
       "      <td>04:58:34.7048</td>\n",
       "    </tr>\n",
       "    <tr>\n",
       "      <th>383049</th>\n",
       "      <td>3.590471e+09</td>\n",
       "      <td>26.28</td>\n",
       "      <td>2017-10-10</td>\n",
       "      <td>04:58:39.7058</td>\n",
       "    </tr>\n",
       "    <tr>\n",
       "      <th>383050</th>\n",
       "      <td>3.590471e+09</td>\n",
       "      <td>26.28</td>\n",
       "      <td>2017-10-10</td>\n",
       "      <td>04:58:44.7248</td>\n",
       "    </tr>\n",
       "    <tr>\n",
       "      <th>383051</th>\n",
       "      <td>3.590471e+09</td>\n",
       "      <td>26.28</td>\n",
       "      <td>2017-10-10</td>\n",
       "      <td>04:58:49.7058</td>\n",
       "    </tr>\n",
       "    <tr>\n",
       "      <th>383052</th>\n",
       "      <td>3.590471e+09</td>\n",
       "      <td>26.28</td>\n",
       "      <td>2017-10-10</td>\n",
       "      <td>04:58:54.7358</td>\n",
       "    </tr>\n",
       "    <tr>\n",
       "      <th>383053</th>\n",
       "      <td>3.590471e+09</td>\n",
       "      <td>26.28</td>\n",
       "      <td>2017-10-10</td>\n",
       "      <td>04:58:59.7148</td>\n",
       "    </tr>\n",
       "    <tr>\n",
       "      <th>383054</th>\n",
       "      <td>3.590471e+09</td>\n",
       "      <td>26.28</td>\n",
       "      <td>2017-10-10</td>\n",
       "      <td>04:59:04.7158</td>\n",
       "    </tr>\n",
       "    <tr>\n",
       "      <th>383055</th>\n",
       "      <td>3.590471e+09</td>\n",
       "      <td>26.28</td>\n",
       "      <td>2017-10-10</td>\n",
       "      <td>04:59:09.7258</td>\n",
       "    </tr>\n",
       "    <tr>\n",
       "      <th>383056</th>\n",
       "      <td>3.590471e+09</td>\n",
       "      <td>26.28</td>\n",
       "      <td>2017-10-10</td>\n",
       "      <td>04:59:14.7058</td>\n",
       "    </tr>\n",
       "    <tr>\n",
       "      <th>383057</th>\n",
       "      <td>3.590471e+09</td>\n",
       "      <td>26.28</td>\n",
       "      <td>2017-10-10</td>\n",
       "      <td>04:59:19.7058</td>\n",
       "    </tr>\n",
       "    <tr>\n",
       "      <th>383058</th>\n",
       "      <td>3.590471e+09</td>\n",
       "      <td>26.28</td>\n",
       "      <td>2017-10-10</td>\n",
       "      <td>04:59:24.7058</td>\n",
       "    </tr>\n",
       "    <tr>\n",
       "      <th>383059</th>\n",
       "      <td>3.590471e+09</td>\n",
       "      <td>26.28</td>\n",
       "      <td>2017-10-10</td>\n",
       "      <td>04:59:29.7058</td>\n",
       "    </tr>\n",
       "    <tr>\n",
       "      <th>383060</th>\n",
       "      <td>3.590471e+09</td>\n",
       "      <td>26.28</td>\n",
       "      <td>2017-10-10</td>\n",
       "      <td>04:59:34.7158</td>\n",
       "    </tr>\n",
       "    <tr>\n",
       "      <th>383061</th>\n",
       "      <td>3.590471e+09</td>\n",
       "      <td>26.28</td>\n",
       "      <td>2017-10-10</td>\n",
       "      <td>04:59:39.7158</td>\n",
       "    </tr>\n",
       "    <tr>\n",
       "      <th>383062</th>\n",
       "      <td>3.590471e+09</td>\n",
       "      <td>26.28</td>\n",
       "      <td>2017-10-10</td>\n",
       "      <td>04:59:44.7168</td>\n",
       "    </tr>\n",
       "    <tr>\n",
       "      <th>383063</th>\n",
       "      <td>3.590471e+09</td>\n",
       "      <td>26.28</td>\n",
       "      <td>2017-10-10</td>\n",
       "      <td>04:59:49.7068</td>\n",
       "    </tr>\n",
       "    <tr>\n",
       "      <th>383064</th>\n",
       "      <td>3.590471e+09</td>\n",
       "      <td>26.28</td>\n",
       "      <td>2017-10-10</td>\n",
       "      <td>04:59:54.7058</td>\n",
       "    </tr>\n",
       "  </tbody>\n",
       "</table>\n",
       "<p>383065 rows × 4 columns</p>\n",
       "</div>"
      ],
      "text/plain": [
       "        time_labview   Temp        date           time\n",
       "0       3.586785e+09  33.17  2017-08-28  13:16:09.2870\n",
       "1       3.588536e+09  36.95  2017-09-17  19:28:53.8380\n",
       "2       3.588536e+09  36.95  2017-09-17  19:28:54.8380\n",
       "3       3.588536e+09  36.95  2017-09-17  19:28:55.8470\n",
       "4       3.588536e+09  36.95  2017-09-17  19:28:56.8370\n",
       "5       3.588536e+09  36.95  2017-09-17  19:28:57.8770\n",
       "6       3.588536e+09  36.95  2017-09-17  19:28:58.8570\n",
       "7       3.588536e+09  36.95  2017-09-17  19:28:59.8170\n",
       "8       3.588536e+09  36.95  2017-09-17  19:29:00.8370\n",
       "9       3.588536e+09  36.95  2017-09-17  19:29:01.8870\n",
       "10      3.588536e+09  36.95  2017-09-17  19:29:02.8370\n",
       "11      3.588536e+09  36.95  2017-09-17  19:29:03.8170\n",
       "12      3.588536e+09  36.95  2017-09-17  19:29:04.8470\n",
       "13      3.588536e+09  36.95  2017-09-17  19:29:05.8470\n",
       "14      3.588536e+09  36.95  2017-09-17  19:29:06.8370\n",
       "15      3.588536e+09  36.95  2017-09-17  19:29:07.8270\n",
       "16      3.588536e+09  36.95  2017-09-17  19:29:08.8270\n",
       "17      3.588536e+09  36.95  2017-09-17  19:29:09.8670\n",
       "18      3.588536e+09  36.95  2017-09-17  19:29:10.8570\n",
       "19      3.588536e+09  36.95  2017-09-17  19:29:11.8170\n",
       "20      3.588536e+09  36.95  2017-09-17  19:29:12.8460\n",
       "21      3.588536e+09  36.95  2017-09-17  19:29:13.8460\n",
       "22      3.588536e+09  36.95  2017-09-17  19:29:14.8660\n",
       "23      3.588536e+09  36.95  2017-09-17  19:29:15.8160\n",
       "24      3.588536e+09  36.95  2017-09-17  19:29:16.8360\n",
       "25      3.588536e+09  36.95  2017-09-17  19:29:17.8260\n",
       "26      3.588536e+09  36.95  2017-09-17  19:29:18.8360\n",
       "27      3.588536e+09  36.95  2017-09-17  19:29:19.8760\n",
       "28      3.588536e+09  36.95  2017-09-17  19:29:20.8160\n",
       "29      3.588536e+09  36.92  2017-09-17  19:29:21.8460\n",
       "...              ...    ...         ...            ...\n",
       "383035  3.590471e+09  26.28  2017-10-10  04:57:29.7148\n",
       "383036  3.590471e+09  26.28  2017-10-10  04:57:34.7138\n",
       "383037  3.590471e+09  26.28  2017-10-10  04:57:39.7038\n",
       "383038  3.590471e+09  26.28  2017-10-10  04:57:44.6948\n",
       "383039  3.590471e+09  26.28  2017-10-10  04:57:49.7038\n",
       "383040  3.590471e+09  26.28  2017-10-10  04:57:54.7138\n",
       "383041  3.590471e+09  26.28  2017-10-10  04:57:59.7248\n",
       "383042  3.590471e+09  26.28  2017-10-10  04:58:04.6948\n",
       "383043  3.590471e+09  26.28  2017-10-10  04:58:09.7148\n",
       "383044  3.590471e+09  26.28  2017-10-10  04:58:14.7148\n",
       "383045  3.590471e+09  26.28  2017-10-10  04:58:19.7148\n",
       "383046  3.590471e+09  26.28  2017-10-10  04:58:24.6948\n",
       "383047  3.590471e+09  26.28  2017-10-10  04:58:29.7148\n",
       "383048  3.590471e+09  26.28  2017-10-10  04:58:34.7048\n",
       "383049  3.590471e+09  26.28  2017-10-10  04:58:39.7058\n",
       "383050  3.590471e+09  26.28  2017-10-10  04:58:44.7248\n",
       "383051  3.590471e+09  26.28  2017-10-10  04:58:49.7058\n",
       "383052  3.590471e+09  26.28  2017-10-10  04:58:54.7358\n",
       "383053  3.590471e+09  26.28  2017-10-10  04:58:59.7148\n",
       "383054  3.590471e+09  26.28  2017-10-10  04:59:04.7158\n",
       "383055  3.590471e+09  26.28  2017-10-10  04:59:09.7258\n",
       "383056  3.590471e+09  26.28  2017-10-10  04:59:14.7058\n",
       "383057  3.590471e+09  26.28  2017-10-10  04:59:19.7058\n",
       "383058  3.590471e+09  26.28  2017-10-10  04:59:24.7058\n",
       "383059  3.590471e+09  26.28  2017-10-10  04:59:29.7058\n",
       "383060  3.590471e+09  26.28  2017-10-10  04:59:34.7158\n",
       "383061  3.590471e+09  26.28  2017-10-10  04:59:39.7158\n",
       "383062  3.590471e+09  26.28  2017-10-10  04:59:44.7168\n",
       "383063  3.590471e+09  26.28  2017-10-10  04:59:49.7068\n",
       "383064  3.590471e+09  26.28  2017-10-10  04:59:54.7058\n",
       "\n",
       "[383065 rows x 4 columns]"
      ]
     },
     "execution_count": 28,
     "metadata": {},
     "output_type": "execute_result"
    }
   ],
   "source": [
    "data.head()"
   ]
  },
  {
   "cell_type": "markdown",
   "metadata": {},
   "source": [
    "Data for device writing log files containing 2T conductance or current "
   ]
  },
  {
   "cell_type": "markdown",
   "metadata": {},
   "source": [
    ".Dat file"
   ]
  },
  {
   "cell_type": "code",
   "execution_count": null,
   "metadata": {},
   "outputs": [],
   "source": []
  },
  {
   "cell_type": "markdown",
   "metadata": {},
   "source": [
    ".tdms file"
   ]
  },
  {
   "cell_type": "code",
   "execution_count": 4,
   "metadata": {},
   "outputs": [],
   "source": [
    "folder = './tdms'"
   ]
  },
  {
   "cell_type": "code",
   "execution_count": 5,
   "metadata": {},
   "outputs": [],
   "source": [
    "path = folder + '/20160429/SA02821.006515.tdms'"
   ]
  },
  {
   "cell_type": "code",
   "execution_count": 6,
   "metadata": {},
   "outputs": [],
   "source": [
    "tdms_file = TdmsFile(path)"
   ]
  },
  {
   "cell_type": "code",
   "execution_count": 12,
   "metadata": {},
   "outputs": [],
   "source": [
    "#tdms_file_object = tdms_file.object()"
   ]
  },
  {
   "cell_type": "markdown",
   "metadata": {},
   "source": [
    "tdms_file is similar to json. It contains groups. Each group has different channels to record data"
   ]
  },
  {
   "cell_type": "code",
   "execution_count": 7,
   "metadata": {},
   "outputs": [
    {
     "data": {
      "text/plain": [
       "['contact data', 'conductance data']"
      ]
     },
     "execution_count": 7,
     "metadata": {},
     "output_type": "execute_result"
    }
   ],
   "source": [
    "#Get groups existing in the tdms file\n",
    "tdms_file.groups()"
   ]
  },
  {
   "cell_type": "code",
   "execution_count": 23,
   "metadata": {},
   "outputs": [
    {
     "data": {
      "text/plain": [
       "([<TdmsObject with path /'contact data'/'time'>,\n",
       "  <TdmsObject with path /'contact data'/'z position'>,\n",
       "  <TdmsObject with path /'contact data'/'x position'>,\n",
       "  <TdmsObject with path /'contact data'/'y position'>,\n",
       "  <TdmsObject with path /'contact data'/'deflection'>,\n",
       "  <TdmsObject with path /'contact data'/'tip voltage'>],\n",
       " [<TdmsObject with path /'conductance data'/'2tG'>,\n",
       "  <TdmsObject with path /'conductance data'/'4tG'>])"
      ]
     },
     "execution_count": 23,
     "metadata": {},
     "output_type": "execute_result"
    }
   ],
   "source": [
    "#Ger channels in each group\n",
    "tdms_file.group_channels('contact data'), tdms_file.group_channels('conductance data')"
   ]
  },
  {
   "cell_type": "code",
   "execution_count": null,
   "metadata": {},
   "outputs": [],
   "source": [
    "# Will work on later\n",
    "def tdms_read(tdms_file):\n",
    "    \n",
    "    return "
   ]
  },
  {
   "cell_type": "code",
   "execution_count": 29,
   "metadata": {},
   "outputs": [],
   "source": [
    "# Procedure to get G2t data. Details can be found in online manual\n",
    "t2_G = tdms_file.object('conductance data', '2tG')\n",
    "t2_G_data = t2_G.data"
   ]
  },
  {
   "cell_type": "code",
   "execution_count": 46,
   "metadata": {},
   "outputs": [],
   "source": [
    "deflection = tdms_file.object('contact data', 'deflection')\n",
    "deflection_data = deflection.data"
   ]
  },
  {
   "cell_type": "code",
   "execution_count": 48,
   "metadata": {},
   "outputs": [],
   "source": [
    "z_pos = tdms_file.object('contact data', 'z position')\n",
    "z_pos_data = z_pos.data"
   ]
  },
  {
   "cell_type": "code",
   "execution_count": 50,
   "metadata": {},
   "outputs": [],
   "source": [
    "tip_V = tdms_file.object('contact data', 'tip voltage')\n",
    "tip_V_data = tip_V.data"
   ]
  },
  {
   "cell_type": "code",
   "execution_count": 33,
   "metadata": {},
   "outputs": [
    {
     "data": {
      "text/plain": [
       "30786"
      ]
     },
     "execution_count": 33,
     "metadata": {},
     "output_type": "execute_result"
    }
   ],
   "source": [
    "len(t2_G_data)"
   ]
  },
  {
   "cell_type": "code",
   "execution_count": 36,
   "metadata": {},
   "outputs": [],
   "source": [
    "time = tdms_file.object('contact data', 'time')"
   ]
  },
  {
   "cell_type": "code",
   "execution_count": 39,
   "metadata": {},
   "outputs": [
    {
     "data": {
      "text/plain": [
       "array([  24.375437,   24.475447,   24.575457, ..., 3104.6064  ,\n",
       "       3104.7065  , 3104.8064  ], dtype=float32)"
      ]
     },
     "execution_count": 39,
     "metadata": {},
     "output_type": "execute_result"
    }
   ],
   "source": [
    "time_data = time.data\n",
    "time_data"
   ]
  },
  {
   "cell_type": "code",
   "execution_count": 38,
   "metadata": {},
   "outputs": [
    {
     "data": {
      "text/plain": [
       "30786"
      ]
     },
     "execution_count": 38,
     "metadata": {},
     "output_type": "execute_result"
    }
   ],
   "source": [
    "len(time.data)"
   ]
  },
  {
   "cell_type": "code",
   "execution_count": 44,
   "metadata": {},
   "outputs": [
    {
     "data": {
      "text/plain": [
       "[<matplotlib.lines.Line2D at 0x1c89659d470>]"
      ]
     },
     "execution_count": 44,
     "metadata": {},
     "output_type": "execute_result"
    },
    {
     "data": {
      "image/png": "[encoded data removed]",
      "text/plain": [
       "<Figure size 432x288 with 1 Axes>"
      ]
     },
     "metadata": {
      "needs_background": "light"
     },
     "output_type": "display_data"
    }
   ],
   "source": [
    "plt.plot(time_data, t2_G_data)"
   ]
  },
  {
   "cell_type": "code",
   "execution_count": 47,
   "metadata": {},
   "outputs": [
    {
     "data": {
      "text/plain": [
       "[<matplotlib.lines.Line2D at 0x1c896663550>]"
      ]
     },
     "execution_count": 47,
     "metadata": {},
     "output_type": "execute_result"
    },
    {
     "data": {
      "image/png": "[encoded data removed]",
      "text/plain": [
       "<Figure size 432x288 with 1 Axes>"
      ]
     },
     "metadata": {
      "needs_background": "light"
     },
     "output_type": "display_data"
    }
   ],
   "source": [
    "plt.plot(time_data, deflection_data)"
   ]
  },
  {
   "cell_type": "code",
   "execution_count": 49,
   "metadata": {},
   "outputs": [
    {
     "data": {
      "text/plain": [
       "[<matplotlib.lines.Line2D at 0x1c89769ceb8>]"
      ]
     },
     "execution_count": 49,
     "metadata": {},
     "output_type": "execute_result"
    },
    {
     "data": {
      "image/png": "[encoded data removed]",
      "text/plain": [
       "<Figure size 432x288 with 1 Axes>"
      ]
     },
     "metadata": {
      "needs_background": "light"
     },
     "output_type": "display_data"
    }
   ],
   "source": [
    "plt.plot(time_data, z_pos_data)"
   ]
  },
  {
   "cell_type": "code",
   "execution_count": 52,
   "metadata": {},
   "outputs": [
    {
     "data": {
      "text/plain": [
       "[<matplotlib.lines.Line2D at 0x1c89789d208>]"
      ]
     },
     "execution_count": 52,
     "metadata": {},
     "output_type": "execute_result"
    },
    {
     "data": {
      "image/png": "[encoded data removed]",
      "text/plain": [
       "<Figure size 432x288 with 1 Axes>"
      ]
     },
     "metadata": {
      "needs_background": "light"
     },
     "output_type": "display_data"
    }
   ],
   "source": [
    "plt.plot(time_data, tip_V_data)"
   ]
  },
  {
   "cell_type": "code",
   "execution_count": null,
   "metadata": {},
   "outputs": [],
   "source": []
  }
 ],
 "metadata": {
  "kernelspec": {
   "display_name": "Python 3",
   "language": "python",
   "name": "python3"
  },
  "language_info": {
   "codemirror_mode": {
    "name": "ipython",
    "version": 3
   },
   "file_extension": ".py",
   "mimetype": "text/x-python",
   "name": "python",
   "nbconvert_exporter": "python",
   "pygments_lexer": "ipython3",
   "version": "3.6.5"
  }
 },
 "nbformat": 4,
 "nbformat_minor": 2
}
